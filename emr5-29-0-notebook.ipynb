{
 "cells": [
  {
   "cell_type": "markdown",
   "id": "5b4e83f6",
   "metadata": {},
   "source": [
    "## 1. <font color=\"7400b8\">Set-up Spark Session and Import necessary packages</font>"
   ]
  },
  {
   "cell_type": "markdown",
   "id": "91a70da0",
   "metadata": {},
   "source": [
    "### 1.1 <font color=\"006d77\">Create a Spark Session</font>"
   ]
  },
  {
   "cell_type": "code",
   "execution_count": 1,
   "id": "a76bba67",
   "metadata": {},
   "outputs": [
    {
     "data": {
      "application/vnd.jupyter.widget-view+json": {
       "model_id": "d84ffc7ed6134d88916827250249a270",
       "version_major": 2,
       "version_minor": 0
      },
      "text/plain": [
       "VBox()"
      ]
     },
     "metadata": {},
     "output_type": "display_data"
    },
    {
     "name": "stdout",
     "output_type": "stream",
     "text": [
      "Starting Spark application\n"
     ]
    },
    {
     "data": {
      "text/html": [
       "<table>\n",
       "<tr><th>ID</th><th>YARN Application ID</th><th>Kind</th><th>State</th><th>Spark UI</th><th>Driver log</th><th>Current session?</th></tr><tr><td>2</td><td>application_1646598025477_0003</td><td>pyspark</td><td>idle</td><td><a target=\"_blank\" href=\"http://ip-172-31-41-11.eu-west-1.compute.internal:20888/proxy/application_1646598025477_0003/\">Link</a></td><td><a target=\"_blank\" href=\"http://ip-172-31-32-223.eu-west-1.compute.internal:8042/node/containerlogs/container_1646598025477_0003_01_000001/livy\">Link</a></td><td>✔</td></tr></table>"
      ],
      "text/plain": [
       "<IPython.core.display.HTML object>"
      ]
     },
     "metadata": {},
     "output_type": "display_data"
    },
    {
     "data": {
      "application/vnd.jupyter.widget-view+json": {
       "model_id": "",
       "version_major": 2,
       "version_minor": 0
      },
      "text/plain": [
       "FloatProgress(value=0.0, bar_style='info', description='Progress:', layout=Layout(height='25px', width='50%'),…"
      ]
     },
     "metadata": {},
     "output_type": "display_data"
    },
    {
     "name": "stdout",
     "output_type": "stream",
     "text": [
      "SparkSession available as 'spark'.\n"
     ]
    },
    {
     "data": {
      "application/vnd.jupyter.widget-view+json": {
       "model_id": "",
       "version_major": 2,
       "version_minor": 0
      },
      "text/plain": [
       "FloatProgress(value=0.0, bar_style='info', description='Progress:', layout=Layout(height='25px', width='50%'),…"
      ]
     },
     "metadata": {},
     "output_type": "display_data"
    }
   ],
   "source": [
    "# Import Spark Session from pyspark\n",
    "from pyspark.sql import SparkSession\n",
    "\n",
    "# Create a Spark Session\n",
    "spark = SparkSession.builder.appName(\"oc-project-08\").getOrCreate()"
   ]
  },
  {
   "cell_type": "markdown",
   "id": "31b07fb1",
   "metadata": {},
   "source": [
    "* Ensure that Spark Session has been created"
   ]
  },
  {
   "cell_type": "code",
   "execution_count": 2,
   "id": "57ca41e6",
   "metadata": {},
   "outputs": [
    {
     "data": {
      "application/vnd.jupyter.widget-view+json": {
       "model_id": "9b47d7a632e840d18ece5113c27102a4",
       "version_major": 2,
       "version_minor": 0
      },
      "text/plain": [
       "VBox()"
      ]
     },
     "metadata": {},
     "output_type": "display_data"
    },
    {
     "data": {
      "application/vnd.jupyter.widget-view+json": {
       "model_id": "",
       "version_major": 2,
       "version_minor": 0
      },
      "text/plain": [
       "FloatProgress(value=0.0, bar_style='info', description='Progress:', layout=Layout(height='25px', width='50%'),…"
      ]
     },
     "metadata": {},
     "output_type": "display_data"
    },
    {
     "name": "stdout",
     "output_type": "stream",
     "text": [
      "<pyspark.sql.session.SparkSession object at 0x7f509a9f6a90>"
     ]
    }
   ],
   "source": [
    "spark"
   ]
  },
  {
   "cell_type": "markdown",
   "id": "5c8d7eee",
   "metadata": {},
   "source": [
    "* Ensure that a SparkContext has been created"
   ]
  },
  {
   "cell_type": "code",
   "execution_count": 3,
   "id": "40e16827",
   "metadata": {},
   "outputs": [
    {
     "data": {
      "application/vnd.jupyter.widget-view+json": {
       "model_id": "5cd7f4f90b2246ea830c2ea57ef4e3f2",
       "version_major": 2,
       "version_minor": 0
      },
      "text/plain": [
       "VBox()"
      ]
     },
     "metadata": {},
     "output_type": "display_data"
    },
    {
     "data": {
      "application/vnd.jupyter.widget-view+json": {
       "model_id": "",
       "version_major": 2,
       "version_minor": 0
      },
      "text/plain": [
       "FloatProgress(value=0.0, bar_style='info', description='Progress:', layout=Layout(height='25px', width='50%'),…"
      ]
     },
     "metadata": {},
     "output_type": "display_data"
    },
    {
     "name": "stdout",
     "output_type": "stream",
     "text": [
      "<SparkContext master=yarn appName=livy-session-2>"
     ]
    }
   ],
   "source": [
    "sc"
   ]
  },
  {
   "cell_type": "markdown",
   "id": "5d481d50",
   "metadata": {},
   "source": [
    "### 1.2 <font color=\"006d77\">Install missing Packages</font>"
   ]
  },
  {
   "cell_type": "markdown",
   "id": "c467a05f",
   "metadata": {},
   "source": [
    "* Install **img2vec-pytorch** ==> To preprocess images & extract features using pre-trained models"
   ]
  },
  {
   "cell_type": "code",
   "execution_count": 5,
   "id": "1b8987f2",
   "metadata": {},
   "outputs": [
    {
     "data": {
      "application/vnd.jupyter.widget-view+json": {
       "model_id": "966609fe79e34d169bcba43e07582ef7",
       "version_major": 2,
       "version_minor": 0
      },
      "text/plain": [
       "VBox()"
      ]
     },
     "metadata": {},
     "output_type": "display_data"
    },
    {
     "data": {
      "application/vnd.jupyter.widget-view+json": {
       "model_id": "",
       "version_major": 2,
       "version_minor": 0
      },
      "text/plain": [
       "FloatProgress(value=0.0, bar_style='info', description='Progress:', layout=Layout(height='25px', width='50%'),…"
      ]
     },
     "metadata": {},
     "output_type": "display_data"
    },
    {
     "name": "stdout",
     "output_type": "stream",
     "text": [
      "Collecting img2vec-pytorch\n",
      "  Using cached img2vec_pytorch-1.0.1-py3-none-any.whl (6.9 kB)\n",
      "Collecting torch\n",
      "  Using cached torch-1.10.2-cp36-cp36m-manylinux1_x86_64.whl (881.9 MB)\n",
      "Requirement already satisfied: numpy in /mnt/tmp/1646599365592-0/lib64/python3.6/site-packages (from img2vec-pytorch) (1.19.5)\n",
      "Collecting torchvision\n",
      "  Using cached torchvision-0.11.2-cp36-cp36m-manylinux1_x86_64.whl (23.3 MB)\n",
      "Collecting typing-extensions\n",
      "  Using cached typing_extensions-4.1.1-py3-none-any.whl (26 kB)\n",
      "Collecting dataclasses\n",
      "  Using cached dataclasses-0.8-py3-none-any.whl (19 kB)\n",
      "Collecting pillow!=8.3.0,>=5.3.0\n",
      "  Using cached Pillow-8.4.0-cp36-cp36m-manylinux_2_17_x86_64.manylinux2014_x86_64.whl (3.1 MB)\n",
      "Collecting torch\n",
      "  Using cached torch-1.10.1-cp36-cp36m-manylinux1_x86_64.whl (881.9 MB)\n",
      "Installing collected packages: typing-extensions, dataclasses, torch, pillow, torchvision, img2vec-pytorch\n",
      "Successfully installed dataclasses-0.8 img2vec-pytorch-1.0.1 pillow-8.4.0 torch-1.10.1 torchvision-0.11.2 typing-extensions-4.1.1"
     ]
    }
   ],
   "source": [
    "sc.install_pypi_package(\"img2vec-pytorch\")"
   ]
  },
  {
   "cell_type": "markdown",
   "id": "1ded78eb",
   "metadata": {},
   "source": [
    "### 1.3 <font color=\"006d77\">Import necessary packages</font>"
   ]
  },
  {
   "cell_type": "code",
   "execution_count": 6,
   "id": "f468692e",
   "metadata": {},
   "outputs": [
    {
     "data": {
      "application/vnd.jupyter.widget-view+json": {
       "model_id": "253aaab64c584677bd6cdd5ea5f836d7",
       "version_major": 2,
       "version_minor": 0
      },
      "text/plain": [
       "VBox()"
      ]
     },
     "metadata": {},
     "output_type": "display_data"
    },
    {
     "data": {
      "application/vnd.jupyter.widget-view+json": {
       "model_id": "",
       "version_major": 2,
       "version_minor": 0
      },
      "text/plain": [
       "FloatProgress(value=0.0, bar_style='info', description='Progress:', layout=Layout(height='25px', width='50%'),…"
      ]
     },
     "metadata": {},
     "output_type": "display_data"
    }
   ],
   "source": [
    "# Import Imf2vec to extract features\n",
    "from img2vec_pytorch import Img2Vec\n",
    "\n",
    "# Import necessary tools from pyspark\n",
    "from pyspark.sql.functions import udf, col, split\n",
    "from pyspark.ml.linalg import Vectors, VectorUDT\n",
    "from pyspark.ml.feature import PCA\n",
    "\n",
    "# import other needed packages\n",
    "import numpy as np\n",
    "from PIL import Image"
   ]
  },
  {
   "cell_type": "markdown",
   "id": "3a9e2d3d",
   "metadata": {},
   "source": [
    "- check the libraries that are already available on the cluster"
   ]
  },
  {
   "cell_type": "code",
   "execution_count": 7,
   "id": "1c045fd3",
   "metadata": {},
   "outputs": [
    {
     "data": {
      "application/vnd.jupyter.widget-view+json": {
       "model_id": "79039d4d395b400e9f412599d0404dbe",
       "version_major": 2,
       "version_minor": 0
      },
      "text/plain": [
       "VBox()"
      ]
     },
     "metadata": {},
     "output_type": "display_data"
    },
    {
     "data": {
      "application/vnd.jupyter.widget-view+json": {
       "model_id": "",
       "version_major": 2,
       "version_minor": 0
      },
      "text/plain": [
       "FloatProgress(value=0.0, bar_style='info', description='Progress:', layout=Layout(height='25px', width='50%'),…"
      ]
     },
     "metadata": {},
     "output_type": "display_data"
    },
    {
     "name": "stdout",
     "output_type": "stream",
     "text": [
      "Package                    Version\n",
      "-------------------------- -------\n",
      "beautifulsoup4             4.8.1\n",
      "boto                       2.49.0\n",
      "dataclasses                0.8\n",
      "img2vec-pytorch            1.0.1\n",
      "jmespath                   0.9.4\n",
      "lxml                       4.4.2\n",
      "mysqlclient                1.4.6\n",
      "nltk                       3.4.5\n",
      "nose                       1.3.4\n",
      "numpy                      1.19.5\n",
      "pandas                     1.1.5\n",
      "Pillow                     8.4.0\n",
      "pip                        21.3.1\n",
      "py-dateutil                2.2\n",
      "python-dateutil            2.8.2\n",
      "python36-sagemaker-pyspark 1.2.6\n",
      "pytz                       2019.3\n",
      "PyYAML                     3.11\n",
      "setuptools                 59.6.0\n",
      "six                        1.13.0\n",
      "soupsieve                  1.9.5\n",
      "torch                      1.10.1\n",
      "torchvision                0.11.2\n",
      "typing_extensions          4.1.1\n",
      "wheel                      0.37.1\n",
      "windmill                   1.6"
     ]
    }
   ],
   "source": [
    "sc.list_packages()"
   ]
  },
  {
   "cell_type": "markdown",
   "id": "ad89a75a",
   "metadata": {},
   "source": [
    "## 2. <font color=\"7400b8\">Load data, extract features and conduct a PCA</font>"
   ]
  },
  {
   "cell_type": "markdown",
   "id": "7a38b32f",
   "metadata": {},
   "source": [
    "### 2.1 <font color=\"006d77\">Visualize available buckets on S3</font>"
   ]
  },
  {
   "cell_type": "code",
   "execution_count": 8,
   "id": "d6b88ecd",
   "metadata": {},
   "outputs": [
    {
     "data": {
      "application/vnd.jupyter.widget-view+json": {
       "model_id": "39ac09d60d4c47f7b5ae8db879ed150b",
       "version_major": 2,
       "version_minor": 0
      },
      "text/plain": [
       "VBox()"
      ]
     },
     "metadata": {},
     "output_type": "display_data"
    },
    {
     "data": {
      "application/vnd.jupyter.widget-view+json": {
       "model_id": "",
       "version_major": 2,
       "version_minor": 0
      },
      "text/plain": [
       "FloatProgress(value=0.0, bar_style='info', description='Progress:', layout=Layout(height='25px', width='50%'),…"
      ]
     },
     "metadata": {},
     "output_type": "display_data"
    }
   ],
   "source": [
    "s3_training_data_url = \"s3://oc-project-08-data-v2/Training/*\""
   ]
  },
  {
   "cell_type": "markdown",
   "id": "cbca3c58",
   "metadata": {},
   "source": [
    "### 2.2 <font color=\"006d77\">Create a Spark DataFame with images</font>"
   ]
  },
  {
   "cell_type": "code",
   "execution_count": 9,
   "id": "3aaf6f69",
   "metadata": {},
   "outputs": [
    {
     "data": {
      "application/vnd.jupyter.widget-view+json": {
       "model_id": "ac7ffac807fd4928927571f9c354f497",
       "version_major": 2,
       "version_minor": 0
      },
      "text/plain": [
       "VBox()"
      ]
     },
     "metadata": {},
     "output_type": "display_data"
    },
    {
     "data": {
      "application/vnd.jupyter.widget-view+json": {
       "model_id": "",
       "version_major": 2,
       "version_minor": 0
      },
      "text/plain": [
       "FloatProgress(value=0.0, bar_style='info', description='Progress:', layout=Layout(height='25px', width='50%'),…"
      ]
     },
     "metadata": {},
     "output_type": "display_data"
    },
    {
     "name": "stdout",
     "output_type": "stream",
     "text": [
      "+--------------------+--------------------+--------------+\n",
      "|              origin|                data|   fruit_label|\n",
      "+--------------------+--------------------+--------------+\n",
      "|s3://oc-project-0...|[FF FC FF FF FD F...|     Raspberry|\n",
      "|s3://oc-project-0...|[FF FF FC FF FF F...|     Raspberry|\n",
      "|s3://oc-project-0...|[FF FF FF FF FF F...|Pineapple_Mini|\n",
      "|s3://oc-project-0...|[FB FF FE FB FF F...|     Raspberry|\n",
      "|s3://oc-project-0...|[FA FF FC FA FF F...|     Raspberry|\n",
      "|s3://oc-project-0...|[FF FF FB FF FF F...|     Raspberry|\n",
      "|s3://oc-project-0...|[FF FF FF FF FF F...|Pineapple_Mini|\n",
      "|s3://oc-project-0...|[FD FF FE FF FF F...|     Raspberry|\n",
      "|s3://oc-project-0...|[FF FE FD FF FF F...|     Raspberry|\n",
      "|s3://oc-project-0...|[FB FF FE FB FF F...|     Raspberry|\n",
      "|s3://oc-project-0...|[FA FF FE F9 FE F...|     Raspberry|\n",
      "|s3://oc-project-0...|[FF FF FC FF FF F...|     Raspberry|\n",
      "|s3://oc-project-0...|[FD FF FB FB FF F...|     Raspberry|\n",
      "|s3://oc-project-0...|[F8 FF FC FA FF F...|     Raspberry|\n",
      "|s3://oc-project-0...|[FF FE FF FF FE F...|     Raspberry|\n",
      "|s3://oc-project-0...|[F6 FF FF F8 FF F...|     Raspberry|\n",
      "|s3://oc-project-0...|[FF FF FF FF FF F...|     Raspberry|\n",
      "|s3://oc-project-0...|[FF FD FF FF FE F...|     Raspberry|\n",
      "|s3://oc-project-0...|[F6 FF FF FA FF F...|     Raspberry|\n",
      "|s3://oc-project-0...|[FD FF FF FD FF F...|     Raspberry|\n",
      "+--------------------+--------------------+--------------+\n",
      "only showing top 20 rows"
     ]
    }
   ],
   "source": [
    "image_df = spark.read.format(\"image\").load(s3_training_data_url)\n",
    "image_df = image_df.withColumn('fruit_label', split(col('image.origin'), '/').getItem(4))\n",
    "image_df = image_df.select('image.origin', 'image.data','fruit_label')\n",
    "image_df.cache()\n",
    "image_df.show(truncate=True)"
   ]
  },
  {
   "cell_type": "code",
   "execution_count": 10,
   "id": "a16b4ca9",
   "metadata": {},
   "outputs": [
    {
     "data": {
      "application/vnd.jupyter.widget-view+json": {
       "model_id": "885c97fa212c4332aec350997b407227",
       "version_major": 2,
       "version_minor": 0
      },
      "text/plain": [
       "VBox()"
      ]
     },
     "metadata": {},
     "output_type": "display_data"
    },
    {
     "data": {
      "application/vnd.jupyter.widget-view+json": {
       "model_id": "",
       "version_major": 2,
       "version_minor": 0
      },
      "text/plain": [
       "FloatProgress(value=0.0, bar_style='info', description='Progress:', layout=Layout(height='25px', width='50%'),…"
      ]
     },
     "metadata": {},
     "output_type": "display_data"
    },
    {
     "name": "stdout",
     "output_type": "stream",
     "text": [
      "Total Columns: 3\n",
      "root\n",
      " |-- origin: string (nullable = true)\n",
      " |-- data: binary (nullable = true)\n",
      " |-- fruit_label: string (nullable = true)"
     ]
    }
   ],
   "source": [
    "print(f'Total Columns: {len(image_df.dtypes)}')\n",
    "image_df.printSchema()"
   ]
  },
  {
   "cell_type": "markdown",
   "id": "e3fdb60c",
   "metadata": {},
   "source": [
    "### 2.3 <font color=\"006d77\">Extract features from each images</font>"
   ]
  },
  {
   "cell_type": "markdown",
   "id": "faebb12e",
   "metadata": {},
   "source": [
    "* Initiate Img2Vec method to use a pre-trained model for feature extraction"
   ]
  },
  {
   "cell_type": "code",
   "execution_count": 11,
   "id": "615097b4",
   "metadata": {},
   "outputs": [
    {
     "data": {
      "application/vnd.jupyter.widget-view+json": {
       "model_id": "d7b3c199eab640e28c0b1a76846f97b5",
       "version_major": 2,
       "version_minor": 0
      },
      "text/plain": [
       "VBox()"
      ]
     },
     "metadata": {},
     "output_type": "display_data"
    },
    {
     "data": {
      "application/vnd.jupyter.widget-view+json": {
       "model_id": "",
       "version_major": 2,
       "version_minor": 0
      },
      "text/plain": [
       "FloatProgress(value=0.0, bar_style='info', description='Progress:', layout=Layout(height='25px', width='50%'),…"
      ]
     },
     "metadata": {},
     "output_type": "display_data"
    },
    {
     "name": "stdout",
     "output_type": "stream",
     "text": [
      "Downloading: \"https://download.pytorch.org/models/resnet18-f37072fd.pth\" to /var/lib/livy/.cache/torch/hub/checkpoints/resnet18-f37072fd.pth\n",
      "100.0%"
     ]
    }
   ],
   "source": [
    "# create a udf function\n",
    "img2vec = Img2Vec(cuda=False, model='resnet-18', layer='avgpool', layer_output_size=512)"
   ]
  },
  {
   "cell_type": "markdown",
   "id": "da976a64",
   "metadata": {},
   "source": [
    "* Create an UDF function to extract features from pictures"
   ]
  },
  {
   "cell_type": "code",
   "execution_count": 12,
   "id": "36e4a715",
   "metadata": {},
   "outputs": [
    {
     "data": {
      "application/vnd.jupyter.widget-view+json": {
       "model_id": "5048ceb7af624145b6f16a2978041884",
       "version_major": 2,
       "version_minor": 0
      },
      "text/plain": [
       "VBox()"
      ]
     },
     "metadata": {},
     "output_type": "display_data"
    },
    {
     "data": {
      "application/vnd.jupyter.widget-view+json": {
       "model_id": "",
       "version_major": 2,
       "version_minor": 0
      },
      "text/plain": [
       "FloatProgress(value=0.0, bar_style='info', description='Progress:', layout=Layout(height='25px', width='50%'),…"
      ]
     },
     "metadata": {},
     "output_type": "display_data"
    }
   ],
   "source": [
    "@udf(\"float\")\n",
    "def extract_features(image_binary):\n",
    "    \n",
    "    # Create Pillow image from binary data\n",
    "    img = Image.fromarray(np.array(image_binary).reshape(100,100,3)[:,:,::-1], 'RGB')\n",
    "    \n",
    "    # Extract feature from pillow image\n",
    "    vec = img2vec.get_vec(img, tensor=False)\n",
    "    \n",
    "    return vec.tolist()"
   ]
  },
  {
   "cell_type": "markdown",
   "id": "4863d579",
   "metadata": {},
   "source": [
    "* Create an UDF function to convert extracted features to vectors"
   ]
  },
  {
   "cell_type": "code",
   "execution_count": 13,
   "id": "0dc4f1fd",
   "metadata": {},
   "outputs": [
    {
     "data": {
      "application/vnd.jupyter.widget-view+json": {
       "model_id": "78814a299902489da43aa08f0da49f4b",
       "version_major": 2,
       "version_minor": 0
      },
      "text/plain": [
       "VBox()"
      ]
     },
     "metadata": {},
     "output_type": "display_data"
    },
    {
     "data": {
      "application/vnd.jupyter.widget-view+json": {
       "model_id": "",
       "version_major": 2,
       "version_minor": 0
      },
      "text/plain": [
       "FloatProgress(value=0.0, bar_style='info', description='Progress:', layout=Layout(height='25px', width='50%'),…"
      ]
     },
     "metadata": {},
     "output_type": "display_data"
    }
   ],
   "source": [
    "list_to_vector_convertor = udf(lambda X: Vectors.dense(X), VectorUDT())"
   ]
  },
  {
   "cell_type": "markdown",
   "id": "35d6029c",
   "metadata": {},
   "source": [
    "* Extract features"
   ]
  },
  {
   "cell_type": "code",
   "execution_count": 14,
   "id": "0e1d1e14",
   "metadata": {},
   "outputs": [
    {
     "data": {
      "application/vnd.jupyter.widget-view+json": {
       "model_id": "b707509393014609bdcddb0cd7f2b459",
       "version_major": 2,
       "version_minor": 0
      },
      "text/plain": [
       "VBox()"
      ]
     },
     "metadata": {},
     "output_type": "display_data"
    },
    {
     "data": {
      "application/vnd.jupyter.widget-view+json": {
       "model_id": "",
       "version_major": 2,
       "version_minor": 0
      },
      "text/plain": [
       "FloatProgress(value=0.0, bar_style='info', description='Progress:', layout=Layout(height='25px', width='50%'),…"
      ]
     },
     "metadata": {},
     "output_type": "display_data"
    }
   ],
   "source": [
    "features_df = image_df.select(col(\"origin\"), col(\"fruit_label\"), extract_features(col(\"data\")).alias(\"features\"))"
   ]
  },
  {
   "cell_type": "markdown",
   "id": "bf59cedd",
   "metadata": {},
   "source": [
    "* Convert extracted features to vector"
   ]
  },
  {
   "cell_type": "code",
   "execution_count": 15,
   "id": "a9da13bb",
   "metadata": {},
   "outputs": [
    {
     "data": {
      "application/vnd.jupyter.widget-view+json": {
       "model_id": "eee867776a224f5c9e3a051d0fd9dfca",
       "version_major": 2,
       "version_minor": 0
      },
      "text/plain": [
       "VBox()"
      ]
     },
     "metadata": {},
     "output_type": "display_data"
    },
    {
     "data": {
      "application/vnd.jupyter.widget-view+json": {
       "model_id": "",
       "version_major": 2,
       "version_minor": 0
      },
      "text/plain": [
       "FloatProgress(value=0.0, bar_style='info', description='Progress:', layout=Layout(height='25px', width='50%'),…"
      ]
     },
     "metadata": {},
     "output_type": "display_data"
    }
   ],
   "source": [
    "features_df = features_df.select(col(\"origin\"), col(\"fruit_label\"),list_to_vector_convertor(col(\"features\")).alias(\"features\"))"
   ]
  },
  {
   "cell_type": "code",
   "execution_count": 16,
   "id": "4aad000d",
   "metadata": {},
   "outputs": [
    {
     "data": {
      "application/vnd.jupyter.widget-view+json": {
       "model_id": "a8f8c3cb4edf470390b09178b0a06c7b",
       "version_major": 2,
       "version_minor": 0
      },
      "text/plain": [
       "VBox()"
      ]
     },
     "metadata": {},
     "output_type": "display_data"
    },
    {
     "data": {
      "application/vnd.jupyter.widget-view+json": {
       "model_id": "",
       "version_major": 2,
       "version_minor": 0
      },
      "text/plain": [
       "FloatProgress(value=0.0, bar_style='info', description='Progress:', layout=Layout(height='25px', width='50%'),…"
      ]
     },
     "metadata": {},
     "output_type": "display_data"
    },
    {
     "name": "stdout",
     "output_type": "stream",
     "text": [
      "root\n",
      " |-- origin: string (nullable = true)\n",
      " |-- fruit_label: string (nullable = true)\n",
      " |-- features: vector (nullable = true)"
     ]
    }
   ],
   "source": [
    "features_df.printSchema()"
   ]
  },
  {
   "cell_type": "code",
   "execution_count": 17,
   "id": "36fbd40d",
   "metadata": {
    "scrolled": false
   },
   "outputs": [
    {
     "data": {
      "application/vnd.jupyter.widget-view+json": {
       "model_id": "7bdabae0e6164d188993fb579e1343ca",
       "version_major": 2,
       "version_minor": 0
      },
      "text/plain": [
       "VBox()"
      ]
     },
     "metadata": {},
     "output_type": "display_data"
    },
    {
     "data": {
      "application/vnd.jupyter.widget-view+json": {
       "model_id": "",
       "version_major": 2,
       "version_minor": 0
      },
      "text/plain": [
       "FloatProgress(value=0.0, bar_style='info', description='Progress:', layout=Layout(height='25px', width='50%'),…"
      ]
     },
     "metadata": {},
     "output_type": "display_data"
    },
    {
     "name": "stdout",
     "output_type": "stream",
     "text": [
      "+--------------------+--------------+--------------------+\n",
      "|              origin|   fruit_label|            features|\n",
      "+--------------------+--------------+--------------------+\n",
      "|s3://oc-project-0...|     Raspberry|[1.89547717571258...|\n",
      "|s3://oc-project-0...|     Raspberry|[1.91805100440979...|\n",
      "|s3://oc-project-0...|Pineapple_Mini|[1.43753802776336...|\n",
      "|s3://oc-project-0...|     Raspberry|[1.94135844707489...|\n",
      "|s3://oc-project-0...|     Raspberry|[1.43012189865112...|\n",
      "|s3://oc-project-0...|     Raspberry|[1.97930002212524...|\n",
      "|s3://oc-project-0...|Pineapple_Mini|[2.56533122062683...|\n",
      "|s3://oc-project-0...|     Raspberry|[0.85269927978515...|\n",
      "|s3://oc-project-0...|     Raspberry|[1.57502710819244...|\n",
      "|s3://oc-project-0...|     Raspberry|[2.03965735435485...|\n",
      "|s3://oc-project-0...|     Raspberry|[1.44332206249237...|\n",
      "|s3://oc-project-0...|     Raspberry|[1.78123617172241...|\n",
      "|s3://oc-project-0...|     Raspberry|[1.84725892543792...|\n",
      "|s3://oc-project-0...|     Raspberry|[1.73818552494049...|\n",
      "|s3://oc-project-0...|     Raspberry|[1.96403026580810...|\n",
      "|s3://oc-project-0...|     Raspberry|[2.41891503334045...|\n",
      "|s3://oc-project-0...|     Raspberry|[1.02840578556060...|\n",
      "|s3://oc-project-0...|     Raspberry|[1.26197969913482...|\n",
      "|s3://oc-project-0...|     Raspberry|[1.43576824665069...|\n",
      "|s3://oc-project-0...|     Raspberry|[2.71328043937683...|\n",
      "+--------------------+--------------+--------------------+\n",
      "only showing top 20 rows"
     ]
    }
   ],
   "source": [
    "features_df.show()"
   ]
  },
  {
   "cell_type": "markdown",
   "id": "1e057800",
   "metadata": {},
   "source": [
    "### 2.4 <font color=\"006d77\">Dimensions reduction using PCA</font>"
   ]
  },
  {
   "cell_type": "code",
   "execution_count": 18,
   "id": "25a2a35f",
   "metadata": {},
   "outputs": [
    {
     "data": {
      "application/vnd.jupyter.widget-view+json": {
       "model_id": "32496d28672145d2b6493afaa03083b1",
       "version_major": 2,
       "version_minor": 0
      },
      "text/plain": [
       "VBox()"
      ]
     },
     "metadata": {},
     "output_type": "display_data"
    },
    {
     "data": {
      "application/vnd.jupyter.widget-view+json": {
       "model_id": "",
       "version_major": 2,
       "version_minor": 0
      },
      "text/plain": [
       "FloatProgress(value=0.0, bar_style='info', description='Progress:', layout=Layout(height='25px', width='50%'),…"
      ]
     },
     "metadata": {},
     "output_type": "display_data"
    }
   ],
   "source": [
    "pca = PCA(k=10, inputCol=\"features\", outputCol=\"pca\")"
   ]
  },
  {
   "cell_type": "code",
   "execution_count": 19,
   "id": "c81166de",
   "metadata": {},
   "outputs": [
    {
     "data": {
      "application/vnd.jupyter.widget-view+json": {
       "model_id": "95414357c7c8410eac819f1167b8b757",
       "version_major": 2,
       "version_minor": 0
      },
      "text/plain": [
       "VBox()"
      ]
     },
     "metadata": {},
     "output_type": "display_data"
    },
    {
     "data": {
      "application/vnd.jupyter.widget-view+json": {
       "model_id": "",
       "version_major": 2,
       "version_minor": 0
      },
      "text/plain": [
       "FloatProgress(value=0.0, bar_style='info', description='Progress:', layout=Layout(height='25px', width='50%'),…"
      ]
     },
     "metadata": {},
     "output_type": "display_data"
    }
   ],
   "source": [
    "pca_model = pca.fit(features_df)"
   ]
  },
  {
   "cell_type": "code",
   "execution_count": 20,
   "id": "27ee5917",
   "metadata": {},
   "outputs": [
    {
     "data": {
      "application/vnd.jupyter.widget-view+json": {
       "model_id": "94327257b6d44912bc35bdf2f20b55fc",
       "version_major": 2,
       "version_minor": 0
      },
      "text/plain": [
       "VBox()"
      ]
     },
     "metadata": {},
     "output_type": "display_data"
    },
    {
     "data": {
      "application/vnd.jupyter.widget-view+json": {
       "model_id": "",
       "version_major": 2,
       "version_minor": 0
      },
      "text/plain": [
       "FloatProgress(value=0.0, bar_style='info', description='Progress:', layout=Layout(height='25px', width='50%'),…"
      ]
     },
     "metadata": {},
     "output_type": "display_data"
    }
   ],
   "source": [
    "pca_df = pca_model.transform(features_df)"
   ]
  },
  {
   "cell_type": "code",
   "execution_count": 21,
   "id": "6fb054ad",
   "metadata": {},
   "outputs": [
    {
     "data": {
      "application/vnd.jupyter.widget-view+json": {
       "model_id": "b773a62efc054bce924f2b49bc3f716a",
       "version_major": 2,
       "version_minor": 0
      },
      "text/plain": [
       "VBox()"
      ]
     },
     "metadata": {},
     "output_type": "display_data"
    },
    {
     "data": {
      "application/vnd.jupyter.widget-view+json": {
       "model_id": "",
       "version_major": 2,
       "version_minor": 0
      },
      "text/plain": [
       "FloatProgress(value=0.0, bar_style='info', description='Progress:', layout=Layout(height='25px', width='50%'),…"
      ]
     },
     "metadata": {},
     "output_type": "display_data"
    },
    {
     "name": "stdout",
     "output_type": "stream",
     "text": [
      "+--------------------+--------------+--------------------+\n",
      "|              origin|   fruit_label|                 pca|\n",
      "+--------------------+--------------+--------------------+\n",
      "|s3://oc-project-0...|     Raspberry|[0.83938632517928...|\n",
      "|s3://oc-project-0...|     Raspberry|[1.51890357198909...|\n",
      "|s3://oc-project-0...|Pineapple_Mini|[5.46140825657934...|\n",
      "|s3://oc-project-0...|     Raspberry|[1.70523477449207...|\n",
      "|s3://oc-project-0...|     Raspberry|[1.97242142102054...|\n",
      "|s3://oc-project-0...|     Raspberry|[1.81949561730243...|\n",
      "|s3://oc-project-0...|Pineapple_Mini|[4.34348116308045...|\n",
      "|s3://oc-project-0...|     Raspberry|[2.69360202161039...|\n",
      "|s3://oc-project-0...|     Raspberry|[1.31938850854930...|\n",
      "|s3://oc-project-0...|     Raspberry|[1.15301992213103...|\n",
      "|s3://oc-project-0...|     Raspberry|[1.78302998257043...|\n",
      "|s3://oc-project-0...|     Raspberry|[1.54436818387076...|\n",
      "|s3://oc-project-0...|     Raspberry|[1.62521060515476...|\n",
      "|s3://oc-project-0...|     Raspberry|[1.26411323099643...|\n",
      "|s3://oc-project-0...|     Raspberry|[1.50527532770383...|\n",
      "|s3://oc-project-0...|     Raspberry|[0.57508469772917...|\n",
      "|s3://oc-project-0...|     Raspberry|[2.51617311853195...|\n",
      "|s3://oc-project-0...|     Raspberry|[2.03055845797707...|\n",
      "|s3://oc-project-0...|     Raspberry|[2.48891325834470...|\n",
      "|s3://oc-project-0...|     Raspberry|[0.82907534980413...|\n",
      "+--------------------+--------------+--------------------+\n",
      "only showing top 20 rows"
     ]
    }
   ],
   "source": [
    "pca_df.select(\"origin\",\"fruit_label\",\"pca\").show()"
   ]
  },
  {
   "cell_type": "markdown",
   "id": "0c52656a",
   "metadata": {},
   "source": [
    "## 3. <font color=\"7400b8\"> Save dataframe after PCA</font>"
   ]
  },
  {
   "cell_type": "markdown",
   "id": "47e5f46b",
   "metadata": {},
   "source": [
    "* change pca column data type"
   ]
  },
  {
   "cell_type": "code",
   "execution_count": 27,
   "id": "397df688",
   "metadata": {},
   "outputs": [
    {
     "data": {
      "application/vnd.jupyter.widget-view+json": {
       "model_id": "0c20ac2e24344866a199bab346e342f0",
       "version_major": 2,
       "version_minor": 0
      },
      "text/plain": [
       "VBox()"
      ]
     },
     "metadata": {},
     "output_type": "display_data"
    },
    {
     "data": {
      "application/vnd.jupyter.widget-view+json": {
       "model_id": "",
       "version_major": 2,
       "version_minor": 0
      },
      "text/plain": [
       "FloatProgress(value=0.0, bar_style='info', description='Progress:', layout=Layout(height='25px', width='50%'),…"
      ]
     },
     "metadata": {},
     "output_type": "display_data"
    }
   ],
   "source": [
    "pca_df = pca_df.withColumn(\"pca\",pca_df.pca.cast('string'))\n",
    "pca_df = pca_df.select(\"origin\", \"fruit_label\", \"pca\")"
   ]
  },
  {
   "cell_type": "code",
   "execution_count": 30,
   "id": "c5576e54",
   "metadata": {},
   "outputs": [
    {
     "data": {
      "application/vnd.jupyter.widget-view+json": {
       "model_id": "de2ae7279e82414e94df97f74c3642d4",
       "version_major": 2,
       "version_minor": 0
      },
      "text/plain": [
       "VBox()"
      ]
     },
     "metadata": {},
     "output_type": "display_data"
    },
    {
     "data": {
      "application/vnd.jupyter.widget-view+json": {
       "model_id": "",
       "version_major": 2,
       "version_minor": 0
      },
      "text/plain": [
       "FloatProgress(value=0.0, bar_style='info', description='Progress:', layout=Layout(height='25px', width='50%'),…"
      ]
     },
     "metadata": {},
     "output_type": "display_data"
    },
    {
     "name": "stdout",
     "output_type": "stream",
     "text": [
      "DataFrame[origin: string, fruit_label: string, pca: string]"
     ]
    }
   ],
   "source": [
    "pca_df"
   ]
  },
  {
   "cell_type": "code",
   "execution_count": 33,
   "id": "df5a6ca5",
   "metadata": {},
   "outputs": [
    {
     "data": {
      "application/vnd.jupyter.widget-view+json": {
       "model_id": "9edd3747114a48c4aa6e112015bb2030",
       "version_major": 2,
       "version_minor": 0
      },
      "text/plain": [
       "VBox()"
      ]
     },
     "metadata": {},
     "output_type": "display_data"
    },
    {
     "data": {
      "application/vnd.jupyter.widget-view+json": {
       "model_id": "",
       "version_major": 2,
       "version_minor": 0
      },
      "text/plain": [
       "FloatProgress(value=0.0, bar_style='info', description='Progress:', layout=Layout(height='25px', width='50%'),…"
      ]
     },
     "metadata": {},
     "output_type": "display_data"
    }
   ],
   "source": [
    "pca_df.repartition(1).write.csv(\"s3://oc-project-08-data-v2/Images_extracted_features/pca_df.csv\")"
   ]
  }
 ],
 "metadata": {
  "kernelspec": {
   "display_name": "PySpark",
   "language": "",
   "name": "pysparkkernel"
  },
  "language_info": {
   "codemirror_mode": {
    "name": "python",
    "version": 2
   },
   "mimetype": "text/x-python",
   "name": "pyspark",
   "pygments_lexer": "python2"
  },
  "toc": {
   "base_numbering": 1,
   "nav_menu": {},
   "number_sections": false,
   "sideBar": true,
   "skip_h1_title": false,
   "title_cell": "Table of Contents",
   "title_sidebar": "Contents",
   "toc_cell": true,
   "toc_position": {},
   "toc_section_display": true,
   "toc_window_display": false
  },
  "varInspector": {
   "cols": {
    "lenName": 16,
    "lenType": 16,
    "lenVar": 40
   },
   "kernels_config": {
    "python": {
     "delete_cmd_postfix": "",
     "delete_cmd_prefix": "del ",
     "library": "var_list.py",
     "varRefreshCmd": "print(var_dic_list())"
    },
    "r": {
     "delete_cmd_postfix": ") ",
     "delete_cmd_prefix": "rm(",
     "library": "var_list.r",
     "varRefreshCmd": "cat(var_dic_list()) "
    }
   },
   "types_to_exclude": [
    "module",
    "function",
    "builtin_function_or_method",
    "instance",
    "_Feature"
   ],
   "window_display": false
  }
 },
 "nbformat": 4,
 "nbformat_minor": 5
}
